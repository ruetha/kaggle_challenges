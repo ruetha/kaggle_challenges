{
 "cells": [
  {
   "cell_type": "markdown",
   "id": "af72e775-1d3b-4504-820c-872aa686464e",
   "metadata": {},
   "source": [
    " # Explore Multi-Label Classification with an Enzyme Substrate Dataset\n",
    " \n",
    "\"The dataset for this competition (both train and test) was generated from a deep learning model trained on a portion of the Multi-label Classification of enzyme substrates. This dataset only uses a subset of features from the original (the features that had the most signal). Feature distributions are close to, but not exactly the same, as the original.\"\n",
    "\n",
    "The **aim** is to preditc the featues EC1 and EC2\n",
    "\n",
    "**Evaluation**: Submissions are evaluated on area under the ROC curve between the predicted probability and the ground truth for each target, and the final score is the average of the individual AUCs of each predicted column.\n",
    "\n",
    "**Sources**:\n",
    "\n",
    "- [Kaggle challenge](https://www.kaggle.com/competitions/playground-series-s3e18/overview/description)\n",
    "- [Original Dataset](https://www.kaggle.com/datasets/gopalns/ec-mixed-class)"
   ]
  },
  {
   "cell_type": "markdown",
   "id": "0ac16577-f0be-40ca-9739-dbde6086bbab",
   "metadata": {},
   "source": [
    "# Outline\n",
    "- [ 1 - Read Data ](#1) \n",
    "- [ 2 - EDA - Exploratory Data Analysis](#2)\n",
    "- [ 3 - Preprocessing Data Before Modeling](#3)\n",
    "- [ 4 - Model Training](#4)\n",
    "- [ 5 - Model Comparison](#5)\n",
    "- [ 6 - Model Tuning](#6)\n",
    "- [ 7 - Model Diagnostic](#7)\n",
    "- [ 8 - Challenge Submission](#8)"
   ]
  },
  {
   "cell_type": "code",
   "execution_count": 2,
   "id": "5f523ec1-ecfc-4a78-afa3-9bb76cb7ad54",
   "metadata": {},
   "outputs": [],
   "source": [
    "# importing standard libraries\n",
    "import pandas as pd\n",
    "import numpy as np\n",
    "\n",
    "import matplotlib.pyplot as plt\n",
    "import matplotlib.ticker as ticker\n",
    "import seaborn as sns\n",
    "\n",
    "from sklearn.preprocessing import MinMaxScaler, PowerTransformer\n",
    "from sklearn.pipeline import Pipeline\n",
    "from sklearn.model_selection import train_test_split\n",
    "from sklearn.linear_model import LogisticRegression\n",
    "from sklearn.ensemble import RandomForestClassifier\n",
    "from sklearn.metrics import confusion_matrix, classification_report\n",
    "from sklearn.metrics import roc_curve, roc_auc_score\n",
    "from sklearn.model_selection import GridSearchCV\n",
    "from sklearn.model_selection import learning_curve, LearningCurveDisplay, ShuffleSplit\n",
    "\n",
    "from xgboost import XGBClassifier\n",
    "\n",
    "import tensorflow as tf\n",
    "from tensorflow.keras.models import Sequential\n",
    "from tensorflow.keras.layers import Dense\n",
    "from tensorflow.keras.activations import linear, relu, sigmoid"
   ]
  },
  {
   "cell_type": "code",
   "execution_count": 3,
   "id": "fb243b9e-a75d-41c1-a21e-941c5feb23b8",
   "metadata": {},
   "outputs": [],
   "source": [
    "# Define Seaborn theme parameters\n",
    "theme_parameters =  {\n",
    "    'axes.spines.right': False,\n",
    "    'axes.spines.top': False,\n",
    "    'grid.alpha':0.3,\n",
    "    'axes.titlesize': 16,\n",
    "    'figure.figsize': (12, 4),\n",
    "}\n",
    "\n",
    "# Set the theme\n",
    "sns.set_theme(style='whitegrid',\n",
    "              palette=sns.color_palette('colorblind'), \n",
    "              rc=theme_parameters)"
   ]
  },
  {
   "cell_type": "markdown",
   "id": "3b228e6a-8059-4b9b-aa8a-bd5dbbf67fb4",
   "metadata": {},
   "source": [
    "# Read Data"
   ]
  },
  {
   "cell_type": "code",
   "execution_count": null,
   "id": "55e143f9-1cf3-4e88-94d7-cd8ff2581a01",
   "metadata": {},
   "outputs": [],
   "source": [
    "read_from_kaggle = False"
   ]
  },
  {
   "cell_type": "code",
   "execution_count": null,
   "id": "45a407e2-cc7b-4d23-9f56-185da28f978a",
   "metadata": {},
   "outputs": [],
   "source": [
    "if read_from_kaggle:\n",
    "    \n",
    "    data = pd.read_csv('',\n",
    "                       index_col=0)\n",
    "    test_data = pd.read_csv('',\n",
    "                       index_col=0)\n",
    "    orig_data = pd.read_csv('',\n",
    "                            index_col=0)\n",
    "    \n",
    "    \n",
    "else:\n",
    "\n",
    "    train_data = pd.read_csv(\"./../data/machine_failure_train.csv\",\n",
    "                             index_col=0)\n",
    "    test_data = pd.read_csv(\"./../data/machine_failure_test.csv\",\n",
    "                            index_col=0)\n",
    "    orig_data = pd.read_csv(\"./../data/machine_failure_original.csv\",\n",
    "                            index_col=0)"
   ]
  }
 ],
 "metadata": {
  "kernelspec": {
   "display_name": "Python 3 (ipykernel)",
   "language": "python",
   "name": "python3"
  },
  "language_info": {
   "codemirror_mode": {
    "name": "ipython",
    "version": 3
   },
   "file_extension": ".py",
   "mimetype": "text/x-python",
   "name": "python",
   "nbconvert_exporter": "python",
   "pygments_lexer": "ipython3",
   "version": "3.10.3"
  }
 },
 "nbformat": 4,
 "nbformat_minor": 5
}
