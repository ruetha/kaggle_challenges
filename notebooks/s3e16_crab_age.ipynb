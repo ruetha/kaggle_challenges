{
 "cells": [
  {
   "cell_type": "markdown",
   "id": "82ad6363-c023-450c-876e-d6af9814b9ef",
   "metadata": {},
   "source": [
    "# Regression with a Crab Age dataset\n",
    "\n",
    "\"The dataset for this competition (both train and test) was generated from a deep learning model trained on the Crab Age Prediction dataset.\"\n",
    "\n",
    "The **aim** is to predict the **age**.\n",
    "\n",
    "- [Kaggle challenge](https://www.kaggle.com/competitions/playground-series-s3e16/data?select=test.csv)\n",
    "- [Original Dataset](https://www.kaggle.com/datasets/sidhus/crab-age-prediction)"
   ]
  },
  {
   "cell_type": "code",
   "execution_count": 3,
   "id": "2ad78c60-1fc9-4f28-bac0-bfdde16e91ec",
   "metadata": {},
   "outputs": [],
   "source": [
    "# importing standard libraries\n",
    "import pandas as pd\n",
    "import numpy as np\n",
    "\n",
    "import matplotlib.pyplot as plt\n",
    "import matplotlib.ticker as ticker\n",
    "import seaborn as sns\n",
    "\n",
    "from scipy import stats\n",
    "from scipy.stats import f_oneway\n",
    "\n",
    "from sklearn.impute import SimpleImputer\n",
    "from sklearn.preprocessing import LabelEncoder\n",
    "from sklearn.impute import KNNImputer\n",
    "from sklearn.preprocessing import MinMaxScaler, FunctionTransformer\n",
    "from sklearn.model_selection import train_test_split\n",
    "from sklearn.linear_model import LinearRegression\n",
    "from sklearn.metrics import mean_squared_error, mean_absolute_error\n",
    "from sklearn.ensemble import RandomForestClassifier\n",
    "from sklearn.ensemble import RandomForestRegressor\n",
    "from sklearn.ensemble import GradientBoostingRegressor\n",
    "from sklearn.model_selection import GridSearchCV\n",
    "from sklearn.model_selection import learning_curve, LearningCurveDisplay, ShuffleSplit\n",
    "\n",
    "from xgboost import XGBRegressor"
   ]
  },
  {
   "cell_type": "code",
   "execution_count": 5,
   "id": "0d2f69ad-c171-42f1-8f71-0d5826b84a74",
   "metadata": {},
   "outputs": [],
   "source": [
    "# Define Seaborn theme parameters\n",
    "theme_parameters =  {\n",
    "    'axes.spines.right': False,\n",
    "    'axes.spines.top': False,\n",
    "    'grid.alpha':0.3,\n",
    "    'axes.titlesize': 16,\n",
    "    'figure.figsize': (12, 4),\n",
    "}\n",
    "\n",
    "# Set the theme\n",
    "sns.set_theme(style='whitegrid',\n",
    "              palette=sns.color_palette('colorblind'), \n",
    "              rc=theme_parameters)"
   ]
  },
  {
   "cell_type": "markdown",
   "id": "7129e5ee-303b-43c8-bdd8-64bb5c163144",
   "metadata": {},
   "source": [
    "# Read Data"
   ]
  },
  {
   "cell_type": "code",
   "execution_count": 6,
   "id": "782d484e-87b9-41e6-8840-0287ac92b05e",
   "metadata": {},
   "outputs": [],
   "source": [
    "read_from_kaggle = False"
   ]
  },
  {
   "cell_type": "code",
   "execution_count": null,
   "id": "8346fc0f-06b8-441b-8178-df30260f3a9a",
   "metadata": {},
   "outputs": [],
   "source": [
    "if read_from_kaggle:\n",
    "    \n",
    "    data = pd.read_csv('',\n",
    "                       index_col=0)\n",
    "    orig_data = pd.read_csv('',\n",
    "                            index_col=0)\n",
    "    \n",
    "    \n",
    "else:\n",
    "\n",
    "    train_data = pd.read_csv(\"./../data/crab_age_test.csv\",\n",
    "                             index_col=0)\n",
    "    test_data = pd.read_csv(\"./../data/crab_age_train.csv\",\n",
    "                            index_col=0)\n",
    "    orig_data = pd.read_csv(\"./../data/crab_age_original.csv\",\n",
    "                            index_col=0)"
   ]
  }
 ],
 "metadata": {
  "kernelspec": {
   "display_name": "Python 3 (ipykernel)",
   "language": "python",
   "name": "python3"
  },
  "language_info": {
   "codemirror_mode": {
    "name": "ipython",
    "version": 3
   },
   "file_extension": ".py",
   "mimetype": "text/x-python",
   "name": "python",
   "nbconvert_exporter": "python",
   "pygments_lexer": "ipython3",
   "version": "3.10.3"
  }
 },
 "nbformat": 4,
 "nbformat_minor": 5
}
