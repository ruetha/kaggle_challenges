{
 "cells": [
  {
   "cell_type": "markdown",
   "id": "82ad6363-c023-450c-876e-d6af9814b9ef",
   "metadata": {},
   "source": [
    "# Regression with a Crab Age dataset\n",
    "\n",
    "\"The dataset for this competition (both train and test) was generated from a deep learning model trained on the Crab Age Prediction dataset.\"\n",
    "\n",
    "The **aim** is to predict the **age**.\n",
    "\n",
    "- [Kaggle challenge](https://www.kaggle.com/competitions/playground-series-s3e16/data?select=test.csv)\n",
    "- [Original Dataset](https://www.kaggle.com/datasets/sidhus/crab-age-prediction)"
   ]
  },
  {
   "cell_type": "code",
   "execution_count": null,
   "id": "2ad78c60-1fc9-4f28-bac0-bfdde16e91ec",
   "metadata": {},
   "outputs": [],
   "source": [
    "from scipy.stats import f_oneway\n"
   ]
  }
 ],
 "metadata": {
  "kernelspec": {
   "display_name": "Python 3 (ipykernel)",
   "language": "python",
   "name": "python3"
  },
  "language_info": {
   "codemirror_mode": {
    "name": "ipython",
    "version": 3
   },
   "file_extension": ".py",
   "mimetype": "text/x-python",
   "name": "python",
   "nbconvert_exporter": "python",
   "pygments_lexer": "ipython3",
   "version": "3.10.3"
  }
 },
 "nbformat": 4,
 "nbformat_minor": 5
}
