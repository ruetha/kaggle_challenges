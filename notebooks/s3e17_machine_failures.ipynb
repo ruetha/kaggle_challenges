{
 "cells": [
  {
   "cell_type": "markdown",
   "id": "a50c6f03-bba7-4083-8adb-0230fa0745d3",
   "metadata": {},
   "source": [
    "# Binary Classification of Machine Failures\n",
    "\n",
    "\"The dataset for this competition (both train and test) was generated from a deep learning model trained on the Machine Failure Predictions.\"\n",
    "\n",
    "**Sources**:\n",
    "\n",
    "- [Kaggle challenge](https://www.kaggle.com/competitions/playground-series-s3e17/data?select=train.csv)\n",
    "- [Original Dataset](https://www.kaggle.com/datasets/dineshmanikanta/machine-failure-predictions)"
   ]
  },
  {
   "cell_type": "markdown",
   "id": "d94957d8-9e6e-4e73-9bab-00ef4886bb8f",
   "metadata": {},
   "source": [
    "# Outline\n",
    "- [ 1 - Read Data ](#1) \n",
    "- [ 2 - EDA - Exploratory Data Analysis](#2)\n",
    "- [ 3 - Preprocessing Data Before Modeling](#3)\n",
    "- [ 4 - Model Training](#4)\n",
    "- [ 5 - Model Comparison](#5)\n",
    "- [ 6 - Model Tuning](#6)\n",
    "- [ 7 - Model Diagnostic](#7)\n",
    "- [ 8 - Challenge Submission](#8)"
   ]
  },
  {
   "cell_type": "code",
   "execution_count": 1,
   "id": "ac1691bd-05ab-4e80-b52e-9e96037ab677",
   "metadata": {},
   "outputs": [],
   "source": [
    "# importing standard libraries\n",
    "import pandas as pd\n",
    "import numpy as np\n",
    "\n",
    "import matplotlib.pyplot as plt\n",
    "import matplotlib.ticker as ticker\n",
    "import seaborn as sns\n",
    "\n",
    "from sklearn.preprocessing import MinMaxScaler, PowerTransformer\n",
    "from sklearn.pipeline import Pipeline\n",
    "from sklearn.model_selection import train_test_split\n",
    "from sklearn.linear_model import LinearRegression\n",
    "from sklearn.metrics import mean_squared_error, mean_absolute_error\n",
    "from sklearn.model_selection import GridSearchCV\n",
    "from sklearn.model_selection import learning_curve, LearningCurveDisplay, ShuffleSplit\n",
    "\n",
    "from xgboost import XGBClassifier"
   ]
  },
  {
   "cell_type": "code",
   "execution_count": 2,
   "id": "5c4763fe-f61a-4b11-83f2-3f19feaa3c2d",
   "metadata": {},
   "outputs": [],
   "source": [
    "# Define Seaborn theme parameters\n",
    "theme_parameters =  {\n",
    "    'axes.spines.right': False,\n",
    "    'axes.spines.top': False,\n",
    "    'grid.alpha':0.3,\n",
    "    'axes.titlesize': 16,\n",
    "    'figure.figsize': (12, 4),\n",
    "}\n",
    "\n",
    "# Set the theme\n",
    "sns.set_theme(style='whitegrid',\n",
    "              palette=sns.color_palette('colorblind'), \n",
    "              rc=theme_parameters)"
   ]
  },
  {
   "cell_type": "markdown",
   "id": "a1ef6e14-f10d-40ba-b266-733529c82878",
   "metadata": {},
   "source": [
    "<a name=\"1\"></a>\n",
    "# Read Data"
   ]
  },
  {
   "cell_type": "code",
   "execution_count": 4,
   "id": "23de903d-fd39-4868-af49-f8013aeeea11",
   "metadata": {},
   "outputs": [],
   "source": [
    "read_from_kaggle = False"
   ]
  },
  {
   "cell_type": "code",
   "execution_count": 6,
   "id": "beffed3b-2318-4f31-a2af-a9f6dc874bd6",
   "metadata": {},
   "outputs": [],
   "source": [
    "if read_from_kaggle:\n",
    "    \n",
    "    data = pd.read_csv('',\n",
    "                       index_col=0)\n",
    "    test_data = pd.read_csv('',\n",
    "                       index_col=0)\n",
    "    orig_data = pd.read_csv('',\n",
    "                            index_col=0)\n",
    "    \n",
    "    \n",
    "else:\n",
    "\n",
    "    train_data = pd.read_csv(\"./../data/machine_failure_train.csv\",\n",
    "                             index_col=0)\n",
    "    test_data = pd.read_csv(\"./../data/machine_failure_test.csv\",\n",
    "                            index_col=0)\n",
    "    orig_data = pd.read_csv(\"./../data/machine_failure_original.csv\")"
   ]
  },
  {
   "cell_type": "code",
   "execution_count": null,
   "id": "41a5d6f5-0c90-403a-8ab6-37c38342f138",
   "metadata": {},
   "outputs": [],
   "source": []
  }
 ],
 "metadata": {
  "kernelspec": {
   "display_name": "Python 3 (ipykernel)",
   "language": "python",
   "name": "python3"
  },
  "language_info": {
   "codemirror_mode": {
    "name": "ipython",
    "version": 3
   },
   "file_extension": ".py",
   "mimetype": "text/x-python",
   "name": "python",
   "nbconvert_exporter": "python",
   "pygments_lexer": "ipython3",
   "version": "3.10.3"
  }
 },
 "nbformat": 4,
 "nbformat_minor": 5
}
